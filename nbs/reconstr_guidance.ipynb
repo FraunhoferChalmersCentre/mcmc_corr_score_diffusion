{
 "cells": [
  {
   "cell_type": "code",
   "execution_count": null,
   "id": "1a54f354-2f55-49e9-acb3-f7d23f797386",
   "metadata": {},
   "outputs": [],
   "source": [
    "%load_ext autoreload\n",
    "%autoreload 2\n",
    "import sys\n",
    "sys.path.append(\"..\")\n",
    "from pathlib import Path\n",
    "import torch as th\n",
    "import torch.nn.functional as F\n",
    "from src.guidance.reconstruction import ReconstructionGuidance\n",
    "from src.model.resnet import load_classifier\n",
    "from src.utils.net import Device, get_device\n",
    "from src.diffusion.base import DiffusionSampler\n",
    "from src.diffusion.beta_schedules import improved_beta_schedule\n",
    "from src.model.unet import load_mnist_diff\n",
    "from src.utils.vis import every_nth_el, plot_reconstr_diff_seq, plot_accs, plot_samples_grid\n",
    "from src.utils.classification import accuracy, logits_to_label\n",
    "\n",
    "def _load_class(class_path: Path, device):\n",
    "    classifier = load_classifier(class_path)\n",
    "    classifier.to(device)\n",
    "    classifier.eval()\n",
    "    return classifier\n",
    "\n",
    "def reconstr_accuracy(samples, classifier, guidance, ys):\n",
    "    accs = []\n",
    "    for t, x_t_batch in samples:\n",
    "        x_t_batch = x_t_batch.to(th.device(\"cuda\"))\n",
    "        base_pred_ys = logits_to_label(classifier(x_t_batch))\n",
    "        base_acc_t = accuracy(ys, base_pred_ys)\n",
    "        x_0_hat = guidance.predict_x_0(x_t_batch, t)\n",
    "        rec_pred_ys = logits_to_label(classifier(x_0_hat))\n",
    "        rec_acc_t = accuracy(ys, rec_pred_ys)\n",
    "        accs.append((t, base_acc_t, rec_acc_t))\n",
    "    return accs\n",
    "\n",
    "def _detach_samples():\n",
    "    for (t, x_t) in samples:\n",
    "        x_t.detach().cpu()"
   ]
  },
  {
   "cell_type": "markdown",
   "id": "fba00dda-b92b-4f0f-be50-4b4222806b2f",
   "metadata": {},
   "source": [
    "## Sample from unconditional diffusion model"
   ]
  },
  {
   "cell_type": "code",
   "execution_count": null,
   "id": "dac225f5-7637-4a2c-a33a-7ec59b9fda66",
   "metadata": {},
   "outputs": [],
   "source": [
    "device = get_device(Device.GPU)\n",
    "models_dir = Path.cwd().parent / \"models\"\n",
    "uncond_diff = load_mnist_diff(models_dir / \"uncond_unet_mnist.pt\", device)\n",
    "T = 1000\n",
    "diff_sampler = DiffusionSampler(improved_beta_schedule, num_diff_steps=T)\n",
    "diff_sampler.to(device)\n",
    "num_samples = 20\n",
    "print(\"Sampling x_0:T\")\n",
    "diff_samples_0, diff_samples = diff_sampler.sample(uncond_diff, num_samples, device, th.Size((1, 28, 28)))\n"
   ]
  },
  {
   "cell_type": "code",
   "execution_count": null,
   "id": "02929252-07cf-456e-9df9-9c491f78fcb7",
   "metadata": {},
   "outputs": [],
   "source": [
    "diff_samples_0 = diff_samples_0.detach().cpu()\n",
    "plot_samples_grid(diff_samples_0, (4, 5))"
   ]
  },
  {
   "cell_type": "markdown",
   "id": "04989c62-bdd7-4acb-933a-8c22822da98d",
   "metadata": {},
   "source": [
    "## Classification"
   ]
  },
  {
   "cell_type": "code",
   "execution_count": null,
   "id": "e100bcb4-7d38-4a26-a0cc-80141d1dd7eb",
   "metadata": {},
   "outputs": [],
   "source": [
    "classifier = _load_class(models_dir / \"resnet_reconstruction_classifier_mnist.pt\", device)\n",
    "guidance = ReconstructionGuidance(uncond_diff, classifier, diff_sampler.alphas_bar.clone(), F.cross_entropy)\n",
    "pred_class = logits_to_label(classifier(diff_samples_0.clone().to(device)))\n",
    "accs = reconstr_accuracy(diff_samples, classifier, guidance, pred_class)\n"
   ]
  },
  {
   "cell_type": "code",
   "execution_count": null,
   "id": "a7ba2b6d-3ec0-4e59-aa92-b202b7bfb6d8",
   "metadata": {},
   "outputs": [],
   "source": [
    "plot_accs(accs)"
   ]
  },
  {
   "cell_type": "code",
   "execution_count": null,
   "id": "47ab5a15-ea29-409f-aae0-4b2e95d32ee7",
   "metadata": {},
   "outputs": [],
   "source": [
    "logits = classifier(diff_samples_0.clone().to(device))\n",
    "from src.utils.classification import entropy\n",
    "p = F.softmax(logits, dim=1)\n",
    "entropy(p)"
   ]
  },
  {
   "cell_type": "markdown",
   "id": "86195b4f-4c70-4aba-ab66-4792887991ef",
   "metadata": {},
   "source": [
    "## Classifier gradient"
   ]
  },
  {
   "cell_type": "code",
   "execution_count": null,
   "id": "9f16c31a-9bd5-4924-9816-e8105417ed9d",
   "metadata": {},
   "outputs": [],
   "source": [
    "guidance"
   ]
  }
 ],
 "metadata": {
  "kernelspec": {
   "display_name": "mcmc_corr",
   "language": "python",
   "name": "mcmc_corr"
  },
  "language_info": {
   "codemirror_mode": {
    "name": "ipython",
    "version": 3
   },
   "file_extension": ".py",
   "mimetype": "text/x-python",
   "name": "python",
   "nbconvert_exporter": "python",
   "pygments_lexer": "ipython3",
   "version": "3.9.13"
  }
 },
 "nbformat": 4,
 "nbformat_minor": 5
}
