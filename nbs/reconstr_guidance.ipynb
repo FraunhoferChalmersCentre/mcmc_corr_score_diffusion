{
 "cells": [
  {
   "cell_type": "code",
   "execution_count": 2,
   "id": "1a54f354-2f55-49e9-acb3-f7d23f797386",
   "metadata": {},
   "outputs": [
    {
     "name": "stdout",
     "output_type": "stream",
     "text": [
      "The autoreload extension is already loaded. To reload it, use:\n",
      "  %reload_ext autoreload\n"
     ]
    }
   ],
   "source": [
    "%load_ext autoreload\n",
    "%autoreload 2\n",
    "import sys\n",
    "sys.path.append(\"..\")\n",
    "from pathlib import Path\n",
    "import torch as th\n",
    "import torch.nn.functional as F\n",
    "from src.guidance.reconstruction import ReconstructionGuidance\n",
    "from src.model.resnet import load_classifier\n",
    "from src.utils.net import Device, get_device\n",
    "from src.diffusion.base import DiffusionSampler\n",
    "from src.diffusion.beta_schedules import improved_beta_schedule\n",
    "from src.model.unet import load_mnist_diff\n",
    "from src.utils.vis import every_nth_el, plot_reconstr_diff_seq, plot_accs, plot_samples_grid\n",
    "from src.utils.classification import accuracy, logits_to_label\n",
    "\n",
    "def _load_class(class_path: Path, device):\n",
    "    classifier = load_classifier(class_path)\n",
    "    classifier.to(device)\n",
    "    classifier.eval()\n",
    "    return classifier\n",
    "\n",
    "def reconstr_accuracy(samples, classifier, guidance, ys):\n",
    "    accs = []\n",
    "    for t, x_t_batch in samples:\n",
    "        x_t_batch = x_t_batch.to(th.device(\"cuda\"))\n",
    "        base_pred_ys = logits_to_label(classifier(x_t_batch))\n",
    "        base_acc_t = accuracy(ys, base_pred_ys)\n",
    "        x_0_hat = guidance.predict_x_0(x_t_batch, t)\n",
    "        rec_pred_ys = logits_to_label(classifier(x_0_hat))\n",
    "        rec_acc_t = accuracy(ys, rec_pred_ys)\n",
    "        accs.append((t, base_acc_t, rec_acc_t))\n",
    "    return accs\n",
    "\n",
    "def _detach_samples():\n",
    "    for (t, x_t) in samples:\n",
    "        x_t.detach().cpu()"
   ]
  },
  {
   "cell_type": "markdown",
   "id": "fba00dda-b92b-4f0f-be50-4b4222806b2f",
   "metadata": {},
   "source": [
    "## Sample from unconditional diffusion model"
   ]
  },
  {
   "cell_type": "code",
   "execution_count": 3,
   "id": "dac225f5-7637-4a2c-a33a-7ec59b9fda66",
   "metadata": {},
   "outputs": [],
   "source": [
    "device = get_device(Device.GPU)\n",
    "models_dir = Path.cwd().parent / \"models\"\n",
    "uncond_diff = load_mnist_diff(models_dir / \"uncond_unet_mnist.pt\", device)\n",
    "T = 1000\n",
    "diff_sampler = DiffusionSampler(improved_beta_schedule, num_diff_steps=T)\n",
    "diff_sampler.to(device)\n",
    "num_samples = 20"
   ]
  },
  {
   "cell_type": "code",
   "execution_count": 4,
   "id": "69f31b8e-d972-4068-b758-60e8c6875477",
   "metadata": {},
   "outputs": [],
   "source": [
    "#diff_samples_0, diff_samples = diff_sampler.sample(uncond_diff, num_samples, device, th.Size((1, 28, 28)))"
   ]
  },
  {
   "cell_type": "code",
   "execution_count": 5,
   "id": "02929252-07cf-456e-9df9-9c491f78fcb7",
   "metadata": {},
   "outputs": [
    {
     "ename": "NameError",
     "evalue": "name 'diff_samples_0' is not defined",
     "output_type": "error",
     "traceback": [
      "\u001b[0;31m---------------------------------------------------------------------------\u001b[0m",
      "\u001b[0;31mNameError\u001b[0m                                 Traceback (most recent call last)",
      "Cell \u001b[0;32mIn[5], line 1\u001b[0m\n\u001b[0;32m----> 1\u001b[0m diff_samples_0 \u001b[38;5;241m=\u001b[39m \u001b[43mdiff_samples_0\u001b[49m\u001b[38;5;241m.\u001b[39mdetach()\u001b[38;5;241m.\u001b[39mcpu()\n\u001b[1;32m      2\u001b[0m plot_samples_grid(diff_samples_0, (\u001b[38;5;241m4\u001b[39m, \u001b[38;5;241m5\u001b[39m))\n",
      "\u001b[0;31mNameError\u001b[0m: name 'diff_samples_0' is not defined"
     ]
    }
   ],
   "source": [
    "diff_samples_0 = diff_samples_0.detach().cpu()\n",
    "plot_samples_grid(diff_samples_0, (4, 5))"
   ]
  },
  {
   "cell_type": "markdown",
   "id": "04989c62-bdd7-4acb-933a-8c22822da98d",
   "metadata": {},
   "source": [
    "## Classification"
   ]
  },
  {
   "cell_type": "code",
   "execution_count": null,
   "id": "e100bcb4-7d38-4a26-a0cc-80141d1dd7eb",
   "metadata": {},
   "outputs": [],
   "source": [
    "classifier = _load_class(models_dir / \"resnet_reconstruction_classifier_mnist.pt\", device)\n",
    "guidance = ReconstructionGuidance(uncond_diff, classifier, diff_sampler.alphas_bar.clone(), F.cross_entropy)\n",
    "pred_class = logits_to_label(classifier(diff_samples_0.clone().to(device)))\n",
    "\n"
   ]
  },
  {
   "cell_type": "code",
   "execution_count": null,
   "id": "c5c34b7b-1e29-48f7-98b6-6f001f924fd7",
   "metadata": {},
   "outputs": [],
   "source": [
    "#accs = reconstr_accuracy(diff_samples, classifier, guidance, pred_class)"
   ]
  },
  {
   "cell_type": "code",
   "execution_count": null,
   "id": "a7ba2b6d-3ec0-4e59-aa92-b202b7bfb6d8",
   "metadata": {},
   "outputs": [],
   "source": [
    "plot_accs(accs)"
   ]
  },
  {
   "cell_type": "code",
   "execution_count": null,
   "id": "47ab5a15-ea29-409f-aae0-4b2e95d32ee7",
   "metadata": {},
   "outputs": [],
   "source": [
    "logits = classifier(diff_samples_0.clone().to(device))\n",
    "from src.utils.classification import entropy\n",
    "p = F.softmax(logits, dim=1)\n",
    "entropy(p)"
   ]
  },
  {
   "cell_type": "markdown",
   "id": "86195b4f-4c70-4aba-ab66-4792887991ef",
   "metadata": {},
   "source": [
    "# Reconstruction"
   ]
  },
  {
   "cell_type": "code",
   "execution_count": null,
   "id": "02b061c4-5cf5-48e1-a36f-550ba31762e1",
   "metadata": {},
   "outputs": [],
   "source": [
    "from src.guidance.reconstruction import ReconstructionGuidance, ReconstructionSampler\n",
    "from src.model.resnet import load_classifier\n",
    "from src.utils.net import Device, get_device\n",
    "from src.diffusion.base import DiffusionSampler\n",
    "from src.diffusion.beta_schedules import improved_beta_schedule\n",
    "from src.model.unet import load_mnist_diff\n",
    "from src.utils.vis import plot_samples_grid\n",
    "\n",
    "\n",
    "\n",
    "#args = parse_args()\n",
    "guid_scale = 10.0\n",
    "device = get_device(Device.GPU)\n",
    "#models_dir = Path.cwd() / \"models\"\n",
    "#uncond_diff = load_mnist_diff(models_dir / \"uncond_unet_mnist.pt\", device)\n",
    "#classifier = _load_class(models_dir / \"resnet_reconstruction_classifier_mnist.pt\", device)\n",
    "T = 1000\n",
    "diff_sampler = DiffusionSampler(improved_beta_schedule, num_diff_steps=T)\n",
    "diff_sampler.to(device)\n",
    "\n",
    "guidance = ReconstructionGuidance(uncond_diff, classifier, diff_sampler.alphas_bar.clone(), lambda_= guid_scale)\n",
    "reconstr_guided_sampler = ReconstructionSampler(uncond_diff, diff_sampler, guidance, verbose=True)\n",
    "\n",
    "num_samples = 100\n",
    "classes = th.ones((num_samples,), dtype=th.int64)\n",
    "reconstr_samples, intermediate_samples = reconstr_guided_sampler.sample(num_samples, classes, device, th.Size((1, 28, 28)))"
   ]
  },
  {
   "cell_type": "code",
   "execution_count": null,
   "id": "a805e06e-2552-4e69-a712-0ad3e17454ee",
   "metadata": {},
   "outputs": [],
   "source": [
    "reconstr_samples = reconstr_samples.detach().cpu()\n",
    "plot_samples_grid(reconstr_samples)"
   ]
  },
  {
   "cell_type": "code",
   "execution_count": null,
   "id": "613fe2b0-5f64-4149-9695-7f02bbd9e518",
   "metadata": {},
   "outputs": [],
   "source": [
    "# x = th.randn((100, 1, 28, 28)).to(device)\n",
    "del(x)\n",
    "#logits = classifier(x)\n",
    "#p = logits_to_prob_vec(logits)\n",
    "p = p.detach().to(\"cpu\")\n",
    "p.mean(dim=0)"
   ]
  },
  {
   "cell_type": "code",
   "execution_count": null,
   "id": "0c3f3935-abee-49f1-a4f8-fc3d4b05e0ab",
   "metadata": {},
   "outputs": [],
   "source": [
    "logits = th.Tensor([-2.0755e+03, -2.9268e+03, -1.2058e+03,  5.2328e+02, -2.1576e+03,\n",
    "         -1.5691e+03,  3.5321e+02, -2.5280e+03,  3.2625e+03, -4.6073e+02]).reshape((1, 10))\n",
    "logits.norm()\n",
    "help(th.norm)"
   ]
  },
  {
   "cell_type": "code",
   "execution_count": 16,
   "id": "20958896-1563-4fcf-8e26-ce292acee9f6",
   "metadata": {},
   "outputs": [
    {
     "name": "stdout",
     "output_type": "stream",
     "text": [
      "(tensor([[1., 1., 1.],\n",
      "        [1., 1., 1.]]),)\n"
     ]
    }
   ],
   "source": [
    "import torch as th\n",
    "# Assuming you have a batch of inputs as a tensor\n",
    "# Replace this with your actual batch of inputs\n",
    "x = th.tensor([[1.0, 2.0, 3.0], [4.0, 5.0, 6.0]], requires_grad=True)\n",
    "\n",
    "# Define your function f\n",
    "# For example, let's compute the sum of elements in x\n",
    "f = x.sum(dim=1)\n",
    "\n",
    "# Compute gradients\n",
    "\n",
    "# Extract gradients for each input in the batch\n",
    "gradients = th.autograd.grad(f, x, th.ones_like(f))\n",
    "\n",
    "# The gradients tensor will contain the gradients for each input x_i in the batch\n",
    "print(gradients)\n"
   ]
  },
  {
   "cell_type": "code",
   "execution_count": 8,
   "id": "ae1cd72e-28cd-4962-9dbc-b02c7cbef2fe",
   "metadata": {},
   "outputs": [
    {
     "ename": "NameError",
     "evalue": "name 'logits_to_log_prob' is not defined",
     "output_type": "error",
     "traceback": [
      "\u001b[0;31m---------------------------------------------------------------------------\u001b[0m",
      "\u001b[0;31mNameError\u001b[0m                                 Traceback (most recent call last)",
      "Cell \u001b[0;32mIn[8], line 3\u001b[0m\n\u001b[1;32m      1\u001b[0m B, D \u001b[38;5;241m=\u001b[39m \u001b[38;5;241m5\u001b[39m, \u001b[38;5;241m4\u001b[39m\n\u001b[1;32m      2\u001b[0m logits \u001b[38;5;241m=\u001b[39m th\u001b[38;5;241m.\u001b[39mrandn((B, D))\n\u001b[0;32m----> 3\u001b[0m log_p \u001b[38;5;241m=\u001b[39m \u001b[43mlogits_to_log_prob\u001b[49m(logits)\n\u001b[1;32m      4\u001b[0m \u001b[38;5;66;03m# Get the log. probabilities of the correct classes\u001b[39;00m\n\u001b[1;32m      5\u001b[0m y_log_probs \u001b[38;5;241m=\u001b[39m log_p[th\u001b[38;5;241m.\u001b[39marange(log_p\u001b[38;5;241m.\u001b[39msize(\u001b[38;5;241m0\u001b[39m)), y]\n",
      "\u001b[0;31mNameError\u001b[0m: name 'logits_to_log_prob' is not defined"
     ]
    }
   ],
   "source": [
    "B, D = 5, 4\n",
    "logits = th.randn((B, D))\n",
    "log_p = logits_to_log_prob(logits)\n",
    "# Get the log. probabilities of the correct classes\n",
    "y_log_probs = log_p[th.arange(log_p.size(0)), y]\n",
    "avg_log = y_log_probs.mean()\n",
    "grad_ = th.autograd.grad(avg_log, x_t, retain_graph=True)[0]\n"
   ]
  }
 ],
 "metadata": {
  "kernelspec": {
   "display_name": "mcmc_corr",
   "language": "python",
   "name": "mcmc_corr"
  },
  "language_info": {
   "codemirror_mode": {
    "name": "ipython",
    "version": 3
   },
   "file_extension": ".py",
   "mimetype": "text/x-python",
   "name": "python",
   "nbconvert_exporter": "python",
   "pygments_lexer": "ipython3",
   "version": "3.9.13"
  }
 },
 "nbformat": 4,
 "nbformat_minor": 5
}
